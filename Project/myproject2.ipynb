{
 "cells": [
  {
   "cell_type": "code",
   "execution_count": 1,
   "id": "628ab690",
   "metadata": {},
   "outputs": [],
   "source": [
    "import os\n",
    "import glob\n",
    "import numpy as np\n",
    "import pandas as pd\n",
    "import seaborn as sns\n",
    "import matplotlib.pyplot as plt\n",
    "from sklearn.model_selection import train_test_split\n",
    "from tensorflow.keras.preprocessing.image import ImageDataGenerator\n",
    "from tensorflow.keras.layers import Dense\n",
    "from tensorflow.keras.models import Model\n",
    "from tensorflow.keras.callbacks import Callback, EarlyStopping\n",
    "from sklearn.metrics import confusion_matrix, classification_report"
   ]
  },
  {
   "cell_type": "code",
   "execution_count": 2,
   "id": "af05f91f",
   "metadata": {},
   "outputs": [],
   "source": [
    "path = r'C:\\Users\\Hibatullah\\CA\\DL\\Project\\weather'\n",
    "path_imgs = list(glob.glob(path+'/**/*.jpg'))"
   ]
  },
  {
   "cell_type": "code",
   "execution_count": 3,
   "id": "1e40fbbc",
   "metadata": {},
   "outputs": [
    {
     "data": {
      "text/html": [
       "<div>\n",
       "<style scoped>\n",
       "    .dataframe tbody tr th:only-of-type {\n",
       "        vertical-align: middle;\n",
       "    }\n",
       "\n",
       "    .dataframe tbody tr th {\n",
       "        vertical-align: top;\n",
       "    }\n",
       "\n",
       "    .dataframe thead th {\n",
       "        text-align: right;\n",
       "    }\n",
       "</style>\n",
       "<table border=\"1\" class=\"dataframe\">\n",
       "  <thead>\n",
       "    <tr style=\"text-align: right;\">\n",
       "      <th></th>\n",
       "      <th>File_Path</th>\n",
       "      <th>Labels</th>\n",
       "    </tr>\n",
       "  </thead>\n",
       "  <tbody>\n",
       "    <tr>\n",
       "      <th>0</th>\n",
       "      <td>C:\\Users\\Hibatullah\\CA\\DL\\Project\\weather\\ligh...</td>\n",
       "      <td>lightning</td>\n",
       "    </tr>\n",
       "    <tr>\n",
       "      <th>1</th>\n",
       "      <td>C:\\Users\\Hibatullah\\CA\\DL\\Project\\weather\\fogg...</td>\n",
       "      <td>foggy</td>\n",
       "    </tr>\n",
       "    <tr>\n",
       "      <th>2</th>\n",
       "      <td>C:\\Users\\Hibatullah\\CA\\DL\\Project\\weather\\rain...</td>\n",
       "      <td>rainbow</td>\n",
       "    </tr>\n",
       "    <tr>\n",
       "      <th>3</th>\n",
       "      <td>C:\\Users\\Hibatullah\\CA\\DL\\Project\\weather\\clou...</td>\n",
       "      <td>cloudy</td>\n",
       "    </tr>\n",
       "    <tr>\n",
       "      <th>4</th>\n",
       "      <td>C:\\Users\\Hibatullah\\CA\\DL\\Project\\weather\\sunr...</td>\n",
       "      <td>sunrise</td>\n",
       "    </tr>\n",
       "  </tbody>\n",
       "</table>\n",
       "</div>"
      ],
      "text/plain": [
       "                                           File_Path     Labels\n",
       "0  C:\\Users\\Hibatullah\\CA\\DL\\Project\\weather\\ligh...  lightning\n",
       "1  C:\\Users\\Hibatullah\\CA\\DL\\Project\\weather\\fogg...      foggy\n",
       "2  C:\\Users\\Hibatullah\\CA\\DL\\Project\\weather\\rain...    rainbow\n",
       "3  C:\\Users\\Hibatullah\\CA\\DL\\Project\\weather\\clou...     cloudy\n",
       "4  C:\\Users\\Hibatullah\\CA\\DL\\Project\\weather\\sunr...    sunrise"
      ]
     },
     "execution_count": 3,
     "metadata": {},
     "output_type": "execute_result"
    }
   ],
   "source": [
    "labels = list(map(lambda x:os.path.split(os.path.split(x)[0])[1], path_imgs))\n",
    "file_path = pd.Series(path_imgs, name='File_Path').astype(str)\n",
    "labels = pd.Series(labels, name='Labels')\n",
    "data = pd.concat([file_path, labels], axis=1)\n",
    "data = data.sample(frac=1).reset_index(drop=True)\n",
    "data.head()"
   ]
  },
  {
   "cell_type": "code",
   "execution_count": null,
   "id": "d5bafab9",
   "metadata": {},
   "outputs": [],
   "source": [
    "fig, axes = plt.subplots(nrows=4, ncols=4, figsize=(15, 7),\n",
    "                        subplot_kw={'xticks': [], 'yticks': []})\n",
    "for i, ax in enumerate(axes.flat):\n",
    "    ax.imshow(plt.imread(data.File_Path[i]))\n",
    "    ax.set_title(data.Labels[i])\n",
    "plt.tight_layout()\n",
    "plt.show()"
   ]
  },
  {
   "cell_type": "code",
   "execution_count": null,
   "id": "a281822b",
   "metadata": {},
   "outputs": [],
   "source": [
    "counts = data.Labels.value_counts()\n",
    "sns.barplot(x=counts.index, y=counts)\n",
    "plt.xlabel('Labels')\n",
    "plt.ylabel('Count')\n",
    "plt.xticks(rotation=50);"
   ]
  },
  {
   "cell_type": "code",
   "execution_count": null,
   "id": "bebc1e08",
   "metadata": {},
   "outputs": [],
   "source": [
    "train_df, test_df = train_test_split(data, test_size=0.2, random_state=2)"
   ]
  },
  {
   "cell_type": "code",
   "execution_count": null,
   "id": "0089c9d8",
   "metadata": {},
   "outputs": [],
   "source": [
    "def gen(pre,train,test):\n",
    "    train_datagen = ImageDataGenerator(preprocessing_function=pre, validation_split=0.2)\n",
    "    test_datagen = ImageDataGenerator(preprocessing_function=pre)\n",
    "    \n",
    "    train_gen = train_datagen.flow_from_dataframe(\n",
    "        dataframe=train,\n",
    "        x_col='File_Path',\n",
    "        y_col='Labels',\n",
    "        target_size=(224,224),\n",
    "        class_mode='categorical',\n",
    "        batch_size=32,\n",
    "        shuffle=True,\n",
    "        seed=0,\n",
    "        subset='training',\n",
    "        rotation_range=30,\n",
    "        zoom_range=0.15,\n",
    "        width_shift_range=0.2,\n",
    "        height_shift_range=0.2,\n",
    "        shear_range=0.15,\n",
    "        horizontal_flip=True,\n",
    "        fill_mode=\"nearest\")\n",
    "    valid_gen = train_datagen.flow_from_dataframe(\n",
    "        dataframe=train,\n",
    "        x_col='File_Path',\n",
    "        y_col='Labels',\n",
    "        target_size=(224,224),\n",
    "        class_mode='categorical',\n",
    "        batch_size=32,\n",
    "        shuffle=False,\n",
    "        seed=0,\n",
    "        subset='validation',\n",
    "        rotation_range=30,\n",
    "        zoom_range=0.15,\n",
    "        width_shift_range=0.2,\n",
    "        height_shift_range=0.2,\n",
    "        shear_range=0.15,\n",
    "        horizontal_flip=True,\n",
    "        fill_mode=\"nearest\")\n",
    "    test_gen = test_datagen.flow_from_dataframe(\n",
    "        dataframe=test,\n",
    "        x_col='File_Path',\n",
    "        y_col='Labels',\n",
    "        target_size=(224,224),\n",
    "        color_mode='rgb',\n",
    "        class_mode='categorical',\n",
    "        batch_size=32,\n",
    "        verbose=0,\n",
    "        shuffle=False)\n",
    "    return train_gen, valid_gen, test_gen"
   ]
  },
  {
   "cell_type": "code",
   "execution_count": null,
   "id": "2eefba61",
   "metadata": {},
   "outputs": [],
   "source": [
    "def func(name_model):\n",
    "    pre_model = name_model(input_shape=(100,100, 3),\n",
    "                   include_top=False,\n",
    "                   weights='imagenet',\n",
    "                   pooling='avg')\n",
    "    pre_model.trainable = False\n",
    "    inputs = pre_model.input\n",
    "    x = Dense(100, activation='relu')(pre_model.output)\n",
    "    x = Dense(100, activation='relu')(x)\n",
    "    outputs = Dense(11, activation='softmax')(x)\n",
    "    model = Model(inputs=inputs, outputs=outputs)\n",
    "    model.compile(loss = 'categorical_crossentropy',optimizer='Adam',metrics=['accuracy'])\n",
    "    my_callbacks  = [EarlyStopping(monitor='val_loss',\n",
    "                              min_delta=0,\n",
    "                              patience=2,\n",
    "                              mode='auto')]\n",
    "    return model, my_callbacks"
   ]
  },
  {
   "cell_type": "code",
   "execution_count": null,
   "id": "ffc019c3",
   "metadata": {},
   "outputs": [],
   "source": [
    "def plot(history,test_gen,train_gen,model):\n",
    "    # Plotting Accuracy, val_accuracy, loss, val_loss\n",
    "    fig, ax = plt.subplots(1, 2, figsize=(10, 3))\n",
    "    ax = ax.ravel()\n",
    "\n",
    "    for i, met in enumerate(['accuracy', 'loss']):\n",
    "        ax[i].plot(history.history[met])\n",
    "        ax[i].plot(history.history['val_' + met])\n",
    "        ax[i].set_title('Model {}'.format(met))\n",
    "        ax[i].set_xlabel('epochs')\n",
    "        ax[i].set_ylabel(met)\n",
    "        ax[i].legend(['Train', 'Validation'])\n",
    "        \n",
    "    # Predict Data Test\n",
    "    pred = model.predict(test_gen )\n",
    "    pred = np.argmax(pred,axis=1)\n",
    "    labels = (train_gen.class_indices)\n",
    "    labels = dict((v,k) for k,v in labels.items())\n",
    "    pred = [labels[k] for k in pred]\n",
    "    \n",
    "    # Classification report\n",
    "    cm=confusion_matrix(test_df.Labels,pred)\n",
    "    clr = classification_report(test_df.Labels, pred)\n",
    "    print(clr)\n",
    "    # Display 6 picture of the dataset with their labels\n",
    "    fig, axes = plt.subplots(nrows=4, ncols=3, figsize=(12, 8),\n",
    "                        subplot_kw={'xticks': [], 'yticks': []})\n",
    "\n",
    "    for i, ax in enumerate(axes.flat):\n",
    "        ax.imshow(plt.imread(test_df.File_Path.iloc[i+1]))\n",
    "        ax.set_title(f\"True: {test_df.Labels.iloc[i+1]}\\nPredicted: {pred[i+1]}\")\n",
    "    plt.tight_layout()\n",
    "    plt.show()\n",
    "        \n",
    "    return history"
   ]
  },
  {
   "cell_type": "code",
   "execution_count": null,
   "id": "3afffd57",
   "metadata": {},
   "outputs": [],
   "source": [
    "def result_test(test,model_use):\n",
    "    results = model_use.evaluate(test, verbose=0)\n",
    "    \n",
    "    print(\"    Test Loss: {:.5f}\".format(results[0]))\n",
    "    print(\"Test Accuracy: {:.2f}%\".format(results[1] * 100))\n",
    "    \n",
    "    return results\n",
    "\n",
    "\n"
   ]
  },
  {
   "cell_type": "markdown",
   "id": "c7678856",
   "metadata": {},
   "source": [
    "## VGG19"
   ]
  },
  {
   "cell_type": "code",
   "execution_count": null,
   "id": "70ba8751",
   "metadata": {},
   "outputs": [],
   "source": [
    "from tensorflow.keras.preprocessing.image import ImageDataGenerator\n",
    "\n",
    "def gen(preprocess_func, train_df, test_df, batch_size=32, img_size=(224, 224)):\n",
    "    datagen = ImageDataGenerator(preprocessing_function=preprocess_func, validation_split=0.2)\n",
    "\n",
    "    train_gen = datagen.flow_from_dataframe(\n",
    "        dataframe=train_df,\n",
    "        x_col=r'C:\\Users\\Hibatullah\\CA\\DL\\Project\\weather',\n",
    "        y_col='Labels',\n",
    "        target_size=img_size,\n",
    "        batch_size=batch_size,\n",
    "        class_mode='categorical',\n",
    "        subset='training',\n",
    "        shuffle=True\n",
    "    )\n",
    "\n",
    "    valid_gen = datagen.flow_from_dataframe(\n",
    "        dataframe=train_df,\n",
    "        x_col=r'C:\\Users\\Hibatullah\\CA\\DL\\Project\\weather',\n",
    "        y_col='Labels',\n",
    "        target_size=img_size,\n",
    "        batch_size=batch_size,\n",
    "        class_mode='categorical',\n",
    "        subset='validation',\n",
    "        shuffle=True\n",
    "    )\n",
    "\n",
    "    test_datagen = ImageDataGenerator(preprocessing_function=preprocess_func)\n",
    "    test_gen = test_datagen.flow_from_dataframe(\n",
    "        dataframe=test_df,\n",
    "        x_col=r'C:\\Users\\Hibatullah\\CA\\DL\\Project\\weather',\n",
    "        y_col='Labels',\n",
    "        target_size=img_size,\n",
    "        batch_size=batch_size,\n",
    "        class_mode='categorical',\n",
    "        shuffle=False\n",
    "    )\n",
    "\n",
    "    return train_gen, valid_gen, test_gen\n"
   ]
  },
  {
   "cell_type": "code",
   "execution_count": null,
   "id": "017fdacf",
   "metadata": {},
   "outputs": [],
   "source": [
    "from tensorflow.keras.applications import VGG19\n",
    "from tensorflow.keras.applications.vgg19 import preprocess_input\n",
    "\n",
    "VGG19_pre = preprocess_input\n",
    "train_gen_VGG19, valid_gen_VGG19, test_gen_VGG19 = gen(VGG19_pre, train_df, test_df)\n",
    "VGG19_model, callback = func(VGG19)\n",
    "\n",
    "history = VGG19_model.fit(\n",
    "    train_gen_VGG19,\n",
    "    validation_data=valid_gen_VGG19,\n",
    "    epochs=10,\n",
    "    callbacks=callback,\n",
    "    verbose=0\n",
    ")\n",
    "\n",
    "history_VGG19 = plot(history, test_gen_VGG19, train_gen_VGG19, VGG19_model)\n",
    "result_VGG19 = result_test(test_gen_VGG19, VGG19_model)\n"
   ]
  },
  {
   "cell_type": "markdown",
   "id": "d064df5b",
   "metadata": {},
   "source": [
    "## ResNet"
   ]
  },
  {
   "cell_type": "code",
   "execution_count": null,
   "id": "dc7f814c",
   "metadata": {},
   "outputs": [],
   "source": [
    "from tensorflow.keras.applications import ResNet50\n",
    "from tensorflow.keras.applications.resnet50 import preprocess_input\n",
    "ResNet_pre=preprocess_input\n",
    "train_gen_ResNet, valid_gen_ResNet, test_gen_ResNet = gen(ResNet_pre,train_df,test_df)\n",
    "ResNet_model, callback=func(ResNet50)\n",
    "history = ResNet_model.fit(\n",
    "    train_gen_ResNet,\n",
    "    validation_data=valid_gen_ResNet,\n",
    "    epochs=10,\n",
    "    callbacks=callback,\n",
    "    verbose=0\n",
    ")\n",
    "history_ResNet= plot(history,test_gen_ResNet,train_gen_ResNet, ResNet_model)\n",
    "\n",
    "result_ResNet = result_test(test_gen_ResNet,ResNet_model)"
   ]
  },
  {
   "cell_type": "markdown",
   "id": "844a996b",
   "metadata": {},
   "source": [
    "## MobileNet"
   ]
  },
  {
   "cell_type": "code",
   "execution_count": null,
   "id": "e711962e",
   "metadata": {},
   "outputs": [],
   "source": [
    "from tensorflow.keras.applications import MobileNet\n",
    "from tensorflow.keras.applications.mobilenet import preprocess_input\n",
    "MobileNet_pre=preprocess_input\n",
    "train_gen_MobileNet, valid_gen_MobileNet, test_gen_MobileNet = gen(MobileNet_pre,train_df,test_df)\n",
    "MobileNet_model, callback=func(MobileNet)\n",
    "history = MobileNet_model.fit(\n",
    "    train_gen_MobileNet,\n",
    "    validation_data=valid_gen_MobileNet,\n",
    "    epochs=100,\n",
    "    callbacks=callback,\n",
    "    verbose=0\n",
    ")\n",
    "history_MobileNet = plot(history,test_gen_MobileNet,train_gen_MobileNet, MobileNet_model)\n",
    "\n",
    "result_MobileNet = result_test(test_gen_MobileNet,MobileNet_model)"
   ]
  },
  {
   "cell_type": "code",
   "execution_count": null,
   "id": "35027f8c",
   "metadata": {},
   "outputs": [],
   "source": []
  },
  {
   "cell_type": "code",
   "execution_count": null,
   "id": "40034106",
   "metadata": {},
   "outputs": [],
   "source": []
  },
  {
   "cell_type": "code",
   "execution_count": null,
   "id": "fcdd71c3",
   "metadata": {},
   "outputs": [],
   "source": []
  },
  {
   "cell_type": "code",
   "execution_count": null,
   "id": "31835464",
   "metadata": {},
   "outputs": [],
   "source": []
  },
  {
   "cell_type": "code",
   "execution_count": null,
   "id": "a849a901",
   "metadata": {},
   "outputs": [],
   "source": []
  },
  {
   "cell_type": "code",
   "execution_count": null,
   "id": "5ebb5e39",
   "metadata": {},
   "outputs": [],
   "source": []
  },
  {
   "cell_type": "code",
   "execution_count": null,
   "id": "2162108f",
   "metadata": {},
   "outputs": [],
   "source": []
  },
  {
   "cell_type": "code",
   "execution_count": null,
   "id": "e65ce543",
   "metadata": {},
   "outputs": [],
   "source": []
  },
  {
   "cell_type": "code",
   "execution_count": null,
   "id": "47dc59d7",
   "metadata": {},
   "outputs": [],
   "source": []
  },
  {
   "cell_type": "code",
   "execution_count": null,
   "id": "50fbd5e3",
   "metadata": {},
   "outputs": [],
   "source": []
  },
  {
   "cell_type": "code",
   "execution_count": null,
   "id": "f32b8429",
   "metadata": {},
   "outputs": [],
   "source": []
  },
  {
   "cell_type": "code",
   "execution_count": null,
   "id": "e2ee06d3",
   "metadata": {},
   "outputs": [],
   "source": []
  },
  {
   "cell_type": "code",
   "execution_count": null,
   "id": "de45acc3",
   "metadata": {},
   "outputs": [],
   "source": []
  },
  {
   "cell_type": "code",
   "execution_count": null,
   "id": "566990bc",
   "metadata": {},
   "outputs": [],
   "source": []
  },
  {
   "cell_type": "code",
   "execution_count": null,
   "id": "15fb332f",
   "metadata": {},
   "outputs": [],
   "source": []
  },
  {
   "cell_type": "code",
   "execution_count": null,
   "id": "b6813db8",
   "metadata": {},
   "outputs": [],
   "source": []
  },
  {
   "cell_type": "code",
   "execution_count": null,
   "id": "81abfeab",
   "metadata": {},
   "outputs": [],
   "source": []
  },
  {
   "cell_type": "code",
   "execution_count": null,
   "id": "ceb53a02",
   "metadata": {},
   "outputs": [],
   "source": []
  },
  {
   "cell_type": "code",
   "execution_count": null,
   "id": "2467989f",
   "metadata": {},
   "outputs": [],
   "source": []
  },
  {
   "cell_type": "code",
   "execution_count": null,
   "id": "3312f6bf",
   "metadata": {},
   "outputs": [],
   "source": []
  },
  {
   "cell_type": "code",
   "execution_count": null,
   "id": "de69f488",
   "metadata": {},
   "outputs": [],
   "source": []
  },
  {
   "cell_type": "code",
   "execution_count": null,
   "id": "99281e8a",
   "metadata": {},
   "outputs": [],
   "source": []
  },
  {
   "cell_type": "code",
   "execution_count": null,
   "id": "7a8cfffd",
   "metadata": {},
   "outputs": [],
   "source": []
  }
 ],
 "metadata": {
  "kernelspec": {
   "display_name": "Python 3 (ipykernel)",
   "language": "python",
   "name": "python3"
  },
  "language_info": {
   "codemirror_mode": {
    "name": "ipython",
    "version": 3
   },
   "file_extension": ".py",
   "mimetype": "text/x-python",
   "name": "python",
   "nbconvert_exporter": "python",
   "pygments_lexer": "ipython3",
   "version": "3.12.7"
  }
 },
 "nbformat": 4,
 "nbformat_minor": 5
}
