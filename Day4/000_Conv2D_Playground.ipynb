{
 "cells": [
  {
   "cell_type": "code",
   "execution_count": 1,
   "id": "825e45cb",
   "metadata": {},
   "outputs": [
    {
     "name": "stderr",
     "output_type": "stream",
     "text": [
      "2025-06-30 14:11:48.293805: I tensorflow/core/platform/cpu_feature_guard.cc:210] This TensorFlow binary is optimized to use available CPU instructions in performance-critical operations.\n",
      "To enable the following instructions: SSE4.1 SSE4.2 AVX AVX2 FMA, in other operations, rebuild TensorFlow with the appropriate compiler flags.\n"
     ]
    }
   ],
   "source": [
    "import tensorflow as tf\n",
    "import numpy as np\n",
    "import matplotlib.pyplot as plt"
   ]
  },
  {
   "cell_type": "code",
   "execution_count": null,
   "id": "a8763785",
   "metadata": {},
   "outputs": [],
   "source": []
  },
  {
   "cell_type": "markdown",
   "id": "341e2329",
   "metadata": {
    "jp-MarkdownHeadingCollapsed": true
   },
   "source": [
    "# Supporting function "
   ]
  },
  {
   "cell_type": "code",
   "execution_count": 2,
   "id": "e1186443",
   "metadata": {},
   "outputs": [],
   "source": [
    "def generate_random_image(size=(5, 5), low=0, high=3, padding=0, seed=123, figsize=(5, 5), white_bg=False, show_numbers=True):\n",
    "    np.random.seed(seed)\n",
    "    img = np.random.randint(low, high + 1, size=size).astype(float)  # integer values as float\n",
    "    if padding > 0:\n",
    "        img = np.pad(img, pad_width=padding, mode='constant', constant_values=0.0)\n",
    "    plt.figure(figsize=figsize)\n",
    "    if white_bg:\n",
    "        plt.imshow(np.ones_like(img), cmap='gray', vmin=0, vmax=1)\n",
    "    else:\n",
    "        plt.imshow(img, cmap='tab20', vmin=low, vmax=high)\n",
    "    if show_numbers:\n",
    "        for i in range(img.shape[0]):\n",
    "            for j in range(img.shape[1]):\n",
    "                plt.text(j, i, f\"{int(img[i, j])}\", ha='center', va='center', color='black', fontsize=16)\n",
    "    for i in range(img.shape[0] + 1):\n",
    "        plt.axhline(i - 0.5, color='blue', linewidth=3)\n",
    "    for j in range(img.shape[1] + 1):\n",
    "        plt.axvline(j - 0.5, color='blue', linewidth=3)\n",
    "    plt.axis('off')\n",
    "    plt.show()\n",
    "    return img"
   ]
  },
  {
   "cell_type": "code",
   "execution_count": null,
   "id": "344236ed",
   "metadata": {},
   "outputs": [],
   "source": []
  },
  {
   "cell_type": "markdown",
   "id": "be6a18d3",
   "metadata": {},
   "source": [
    "# Your Experiment Goes here"
   ]
  },
  {
   "cell_type": "code",
   "execution_count": 3,
   "id": "0c77000a",
   "metadata": {},
   "outputs": [
    {
     "data": {
      "image/png": "[encoded data removed]",
      "text/plain": [
       "<Figure size 600x600 with 1 Axes>"
      ]
     },
     "metadata": {},
     "output_type": "display_data"
    }
   ],
   "source": [
    "img = generate_random_image(size=(5,5), padding=0, figsize=(6,6), white_bg=not True, seed=0)"
   ]
  },
  {
   "cell_type": "code",
   "execution_count": null,
   "id": "067634d8",
   "metadata": {},
   "outputs": [],
   "source": []
  },
  {
   "cell_type": "code",
   "execution_count": null,
   "id": "eda2d907",
   "metadata": {},
   "outputs": [],
   "source": []
  }
 ],
 "metadata": {
  "kernelspec": {
   "display_name": "(03) Python 3.9 (TensorFlow)",
   "language": "python",
   "name": "py39_tensorflow"
  },
  "language_info": {
   "codemirror_mode": {
    "name": "ipython",
    "version": 3
   },
   "file_extension": ".py",
   "mimetype": "text/x-python",
   "name": "python",
   "nbconvert_exporter": "python",
   "pygments_lexer": "ipython3",
   "version": "3.9.23"
  }
 },
 "nbformat": 4,
 "nbformat_minor": 5
}
