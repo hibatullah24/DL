{
 "cells": [
  {
   "cell_type": "code",
   "execution_count": 2,
   "id": "bce8b710-fa19-4202-b749-cb84d68e2ae9",
   "metadata": {},
   "outputs": [
    {
     "name": "stderr",
     "output_type": "stream",
     "text": [
      "2025-06-30 14:12:29.646835: I tensorflow/core/platform/cpu_feature_guard.cc:210] This TensorFlow binary is optimized to use available CPU instructions in performance-critical operations.\n",
      "To enable the following instructions: SSE4.1 SSE4.2 AVX AVX2 FMA, in other operations, rebuild TensorFlow with the appropriate compiler flags.\n"
     ]
    }
   ],
   "source": [
    "import tensorflow as tf"
   ]
  },
  {
   "cell_type": "code",
   "execution_count": null,
   "id": "51128bcd-8292-4ca2-a0e6-b79bca17018a",
   "metadata": {},
   "outputs": [],
   "source": []
  },
  {
   "cell_type": "code",
   "execution_count": 29,
   "id": "bb18c99d-a871-4895-b515-bbd9fa669a24",
   "metadata": {},
   "outputs": [
    {
     "data": {
      "text/plain": [
       "TensorShape([1, 64, 64, 3])"
      ]
     },
     "execution_count": 29,
     "metadata": {},
     "output_type": "execute_result"
    }
   ],
   "source": [
    "X = tf.random.uniform(shape=[1, 64, 64, 3])\n",
    "X.shape"
   ]
  },
  {
   "cell_type": "code",
   "execution_count": null,
   "id": "3826fe36-63f5-4fce-a6a4-bb8c36dca576",
   "metadata": {},
   "outputs": [],
   "source": []
  },
  {
   "cell_type": "code",
   "execution_count": 30,
   "id": "3008da72-c7bf-45f1-a379-4f8839a0ebf2",
   "metadata": {},
   "outputs": [],
   "source": [
    "conv2d = \\\n",
    "tf.keras.layers.Conv2D(filters=10, \n",
    "                       kernel_size=[5,5],\n",
    "                       # padding=\"same\",\n",
    "                       strides=[1,1])"
   ]
  },
  {
   "cell_type": "code",
   "execution_count": 31,
   "id": "707be306-abe4-4b93-b2c2-66ece3da5535",
   "metadata": {},
   "outputs": [],
   "source": [
    "out = conv2d(X)"
   ]
  },
  {
   "cell_type": "code",
   "execution_count": 32,
   "id": "2b78dfac-05fb-450f-b066-d18f60318bb3",
   "metadata": {},
   "outputs": [
    {
     "data": {
      "text/plain": [
       "(TensorShape([1, 64, 64, 3]), TensorShape([1, 60, 60, 10]))"
      ]
     },
     "execution_count": 32,
     "metadata": {},
     "output_type": "execute_result"
    }
   ],
   "source": [
    "X.shape, out.shape"
   ]
  },
  {
   "cell_type": "code",
   "execution_count": null,
   "id": "5b88524b-8763-4f89-829c-2a5807cc771f",
   "metadata": {},
   "outputs": [],
   "source": []
  },
  {
   "cell_type": "code",
   "execution_count": 33,
   "id": "164bad3b-b86f-4934-a4dd-d9d97b63666e",
   "metadata": {},
   "outputs": [
    {
     "data": {
      "text/plain": [
       "[<KerasVariable shape=(5, 5, 3, 10), dtype=float32, path=conv2d_8/kernel>,\n",
       " <KerasVariable shape=(10,), dtype=float32, path=conv2d_8/bias>]"
      ]
     },
     "execution_count": 33,
     "metadata": {},
     "output_type": "execute_result"
    }
   ],
   "source": [
    "conv2d.weights"
   ]
  },
  {
   "cell_type": "code",
   "execution_count": null,
   "id": "8b0bd2be-baf7-4a17-aaf8-9eec499e6d1a",
   "metadata": {},
   "outputs": [],
   "source": []
  },
  {
   "cell_type": "code",
   "execution_count": null,
   "id": "1a5efc72-13e6-47d8-8d24-b8a7cb71ed42",
   "metadata": {},
   "outputs": [],
   "source": [
    "# Same: ((input_h - f_h) / Stride) + 1\n",
    "# Valid: ((input_h / Stride) "
   ]
  },
  {
   "cell_type": "code",
   "execution_count": null,
   "id": "4b4df0fd-bbed-4c70-a030-2b9399bf1ee5",
   "metadata": {},
   "outputs": [],
   "source": []
  },
  {
   "cell_type": "code",
   "execution_count": null,
   "id": "cac94d15-477f-461b-b73b-606636e89100",
   "metadata": {},
   "outputs": [],
   "source": []
  },
  {
   "cell_type": "code",
   "execution_count": null,
   "id": "e2724792-f813-4d7f-9ce6-58908e0346c1",
   "metadata": {},
   "outputs": [],
   "source": []
  },
  {
   "cell_type": "code",
   "execution_count": null,
   "id": "310fec1d-e73a-4131-8bd5-b563627a91d7",
   "metadata": {},
   "outputs": [],
   "source": [
    "pool = tf.keras.layers.Av"
   ]
  },
  {
   "cell_type": "code",
   "execution_count": null,
   "id": "4b0f7125-3581-4c98-bed8-72743831ae3f",
   "metadata": {},
   "outputs": [],
   "source": []
  },
  {
   "cell_type": "code",
   "execution_count": null,
   "id": "265f5685-0eb8-47e7-80b8-5528f6b963bc",
   "metadata": {},
   "outputs": [],
   "source": []
  },
  {
   "cell_type": "code",
   "execution_count": null,
   "id": "fa59f14e-6027-4aa4-a03a-f505d6faf11e",
   "metadata": {},
   "outputs": [],
   "source": []
  },
  {
   "cell_type": "code",
   "execution_count": null,
   "id": "f00270e4-c382-46ee-9c5c-7eb4cff5a51f",
   "metadata": {},
   "outputs": [],
   "source": []
  },
  {
   "cell_type": "code",
   "execution_count": null,
   "id": "9d49877c-1dec-495f-ab80-40a18d0152c4",
   "metadata": {},
   "outputs": [],
   "source": []
  },
  {
   "cell_type": "code",
   "execution_count": null,
   "id": "e6ff64ba-1451-4815-be77-bb9334b984cd",
   "metadata": {},
   "outputs": [],
   "source": []
  },
  {
   "cell_type": "code",
   "execution_count": null,
   "id": "b9ce9a9a-5c3d-4715-9955-0e4339521562",
   "metadata": {},
   "outputs": [],
   "source": []
  },
  {
   "cell_type": "code",
   "execution_count": null,
   "id": "cb9adb17-68a7-4f13-bfb2-100756cc6561",
   "metadata": {},
   "outputs": [],
   "source": []
  },
  {
   "cell_type": "code",
   "execution_count": null,
   "id": "958cfc91-b719-4551-9df8-f9fa6887cf95",
   "metadata": {},
   "outputs": [],
   "source": []
  },
  {
   "cell_type": "code",
   "execution_count": null,
   "id": "e4cb3035-c788-408d-8ea6-92ab51273ea7",
   "metadata": {},
   "outputs": [],
   "source": []
  },
  {
   "cell_type": "code",
   "execution_count": null,
   "id": "a9499b0b-284a-4c53-8e8a-5b6833f78ef0",
   "metadata": {},
   "outputs": [],
   "source": []
  },
  {
   "cell_type": "code",
   "execution_count": null,
   "id": "ee57fa28-cbab-42aa-8877-6c1bed9fe664",
   "metadata": {},
   "outputs": [],
   "source": []
  },
  {
   "cell_type": "code",
   "execution_count": null,
   "id": "47028e4a-6137-4a98-a140-440cf425bc56",
   "metadata": {},
   "outputs": [],
   "source": []
  },
  {
   "cell_type": "code",
   "execution_count": null,
   "id": "e0a1a339-0466-461c-af0b-945d0a7f0a15",
   "metadata": {},
   "outputs": [],
   "source": []
  },
  {
   "cell_type": "code",
   "execution_count": null,
   "id": "232371d9-e065-4cc9-a4e4-e961d2d3d5c5",
   "metadata": {},
   "outputs": [],
   "source": []
  },
  {
   "cell_type": "code",
   "execution_count": null,
   "id": "968f4cc2-7a02-41ee-abd2-05b15fbe3e97",
   "metadata": {},
   "outputs": [],
   "source": []
  },
  {
   "cell_type": "code",
   "execution_count": null,
   "id": "87b8e7af-958b-4f14-97af-e9aaeb11494e",
   "metadata": {},
   "outputs": [],
   "source": []
  }
 ],
 "metadata": {
  "kernelspec": {
   "display_name": "(03) Python 3.9 (TensorFlow)",
   "language": "python",
   "name": "py39_tensorflow"
  },
  "language_info": {
   "codemirror_mode": {
    "name": "ipython",
    "version": 3
   },
   "file_extension": ".py",
   "mimetype": "text/x-python",
   "name": "python",
   "nbconvert_exporter": "python",
   "pygments_lexer": "ipython3",
   "version": "3.9.23"
  }
 },
 "nbformat": 4,
 "nbformat_minor": 5
}
