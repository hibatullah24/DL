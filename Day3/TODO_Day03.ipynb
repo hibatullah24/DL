{
 "cells": [
  {
   "cell_type": "markdown",
   "id": "c573b220-1497-4b88-8939-959ba012c4ab",
   "metadata": {},
   "source": [
    "### NN Day03 TODO"
   ]
  },
  {
   "cell_type": "markdown",
   "id": "3cf015f9-bc52-40aa-a34e-af4571101d5b",
   "metadata": {},
   "source": [
    "* Review and Input_Shape\n",
    "* Add metrcis \n",
    "* Debug Dense & debuging tips\n",
    "* Functional API\n",
    "* Operational layers intro\n",
    "* Regression example\n",
    "* Hands-on: Design and fit a NN for the last week capstone project\n",
    "* Arch types and recommnedations\n",
    "---------\n",
    "* Backprop\n",
    "* Signal flows\n",
    "* Reserach paper"
   ]
  },
  {
   "cell_type": "code",
   "execution_count": null,
   "id": "788e0ddd-b21d-4eed-9be4-ea70e7fabae1",
   "metadata": {},
   "outputs": [],
   "source": []
  },
  {
   "cell_type": "code",
   "execution_count": null,
   "id": "b1d978ce-de7e-4b3d-bfa3-460558a18e6b",
   "metadata": {},
   "outputs": [],
   "source": []
  },
  {
   "cell_type": "code",
   "execution_count": null,
   "id": "383ef666-4096-4147-853f-b69668e797dd",
   "metadata": {},
   "outputs": [],
   "source": []
  }
 ],
 "metadata": {
  "kernelspec": {
   "display_name": "(03) Python 3.9 (TensorFlow)",
   "language": "python",
   "name": "py39_tensorflow"
  },
  "language_info": {
   "codemirror_mode": {
    "name": "ipython",
    "version": 3
   },
   "file_extension": ".py",
   "mimetype": "text/x-python",
   "name": "python",
   "nbconvert_exporter": "python",
   "pygments_lexer": "ipython3",
   "version": "3.9.23"
  }
 },
 "nbformat": 4,
 "nbformat_minor": 5
}
