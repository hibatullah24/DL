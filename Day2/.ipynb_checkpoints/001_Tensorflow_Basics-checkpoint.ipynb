{
 "cells": [
  {
   "cell_type": "code",
   "execution_count": null,
   "id": "6d609ee5",
   "metadata": {},
   "outputs": [
    {
     "name": "stderr",
     "output_type": "stream",
     "text": [
      "2025-06-22 16:34:55.518970: I tensorflow/core/platform/cpu_feature_guard.cc:210] This TensorFlow binary is optimized to use available CPU instructions in performance-critical operations.\n",
      "To enable the following instructions: SSE4.1 SSE4.2 AVX AVX2 FMA, in other operations, rebuild TensorFlow with the appropriate compiler flags.\n"
     ]
    },
    {
     "name": "stdout",
     "output_type": "stream",
     "text": [
      "\n",
      " TensorFlow imported successfully!\n"
     ]
    }
   ],
   "source": [
    "# Import TensorFlow\n",
    "import tensorflow as tf\n",
    "print('\\n TensorFlow imported successfully!')"
   ]
  },
  {
   "cell_type": "markdown",
   "id": "dc4befe9",
   "metadata": {},
   "source": [
    "# Check TensorFlow version"
   ]
  },
  {
   "cell_type": "code",
   "execution_count": 2,
   "id": "1aafdcc8",
   "metadata": {},
   "outputs": [
    {
     "name": "stdout",
     "output_type": "stream",
     "text": [
      "TensorFlow version: 2.18.1\n"
     ]
    }
   ],
   "source": [
    "# Print TensorFlow version\n",
    "print('TensorFlow version:', tf.__version__)"
   ]
  },
  {
   "cell_type": "markdown",
   "id": "4f7d9fcb",
   "metadata": {},
   "source": [
    "# Check if your are running on GPU"
   ]
  },
  {
   "cell_type": "code",
   "execution_count": 21,
   "id": "55b9b5b4",
   "metadata": {},
   "outputs": [
    {
     "data": {
      "text/plain": [
       "[LogicalDevice(name='/device:CPU:0', device_type='CPU')]"
      ]
     },
     "execution_count": 21,
     "metadata": {},
     "output_type": "execute_result"
    }
   ],
   "source": [
    "tf.config.list_logical_devices()"
   ]
  },
  {
   "cell_type": "markdown",
   "id": "b4873fed",
   "metadata": {},
   "source": [
    "# TensorFlow Data Types"
   ]
  },
  {
   "cell_type": "code",
   "execution_count": 2,
   "id": "feace6f1",
   "metadata": {},
   "outputs": [
    {
     "name": "stdout",
     "output_type": "stream",
     "text": [
      "Integer tensor: tf.Tensor([1 2 3], shape=(3,), dtype=int32)\n",
      "Float tensor: tf.Tensor([1. 2. 3.], shape=(3,), dtype=float32)\n",
      "Boolean tensor: tf.Tensor([ True False  True], shape=(3,), dtype=bool)\n"
     ]
    }
   ],
   "source": [
    "# TensorFlow supports various data types for tensors\n",
    "int_tensor = tf.constant([1, 2, 3], dtype=tf.int32)\n",
    "float_tensor = tf.constant([1.0, 2.0, 3.0], dtype=tf.float32)\n",
    "bool_tensor = tf.constant([True, False, True], dtype=tf.bool)\n",
    "print('Integer tensor:', int_tensor)\n",
    "print('Float tensor:', float_tensor)\n",
    "print('Boolean tensor:', bool_tensor)"
   ]
  },
  {
   "cell_type": "markdown",
   "id": "9e47693b",
   "metadata": {},
   "source": [
    "# Tensorflow as Numpy"
   ]
  },
  {
   "cell_type": "code",
   "execution_count": 4,
   "id": "c991623b",
   "metadata": {},
   "outputs": [
    {
     "name": "stdout",
     "output_type": "stream",
     "text": [
      "Tensor from NumPy: tf.Tensor([10 20 30], shape=(3,), dtype=int64)\n",
      "Back to NumPy: [10 20 30]\n"
     ]
    }
   ],
   "source": [
    "# TensorFlow tensors can be converted to NumPy arrays and vice versa\n",
    "import numpy as np\n",
    "np_array = np.array([10, 20, 30])\n",
    "tensor_from_np = tf.constant(np_array)\n",
    "print('Tensor from NumPy:', tensor_from_np)\n",
    "back_to_np = tensor_from_np.numpy()\n",
    "print('Back to NumPy:', back_to_np)"
   ]
  },
  {
   "cell_type": "markdown",
   "id": "1a3758c2",
   "metadata": {},
   "source": [
    "# Generate Random Data with TensorFlow"
   ]
  },
  {
   "cell_type": "code",
   "execution_count": 3,
   "id": "fd7ab0d2",
   "metadata": {},
   "outputs": [
    {
     "name": "stdout",
     "output_type": "stream",
     "text": [
      "Random uniform tensor:\n",
      " tf.Tensor(\n",
      "[[0 4 4]\n",
      " [8 0 7]\n",
      " [0 2 9]], shape=(3, 3), dtype=int32)\n"
     ]
    }
   ],
   "source": [
    "random_tensor = tf.random.uniform(shape=(3, 3), minval=0, maxval=10, dtype=tf.int32)\n",
    "print('Random uniform tensor:\\n', random_tensor)"
   ]
  },
  {
   "cell_type": "code",
   "execution_count": 4,
   "id": "6366af83",
   "metadata": {},
   "outputs": [
    {
     "name": "stdout",
     "output_type": "stream",
     "text": [
      "Random normal tensor:\n",
      " tf.Tensor(\n",
      "[[-0.9485974   0.913962    0.11908332]\n",
      " [ 0.66737777  0.54131585 -1.1664466 ]\n",
      " [-0.04411349 -1.7965539  -0.81957924]], shape=(3, 3), dtype=float32)\n"
     ]
    }
   ],
   "source": [
    "normal_tensor = tf.random.normal(shape=(3, 3), mean=0.0, stddev=1.0)\n",
    "print('Random normal tensor:\\n', normal_tensor)"
   ]
  },
  {
   "cell_type": "markdown",
   "id": "d18141f8",
   "metadata": {},
   "source": [
    "# TensorFlow and Keras APIs"
   ]
  },
  {
   "cell_type": "code",
   "execution_count": null,
   "id": "3b375ddc",
   "metadata": {},
   "outputs": [
    {
     "data": {
      "text/plain": [
       "keras.src.layers.core.dense.Dense"
      ]
     },
     "execution_count": 5,
     "metadata": {},
     "output_type": "execute_result"
    }
   ],
   "source": [
    "tf.keras.layers.Denses"
   ]
  },
  {
   "cell_type": "code",
   "execution_count": 7,
   "id": "28aa4e80",
   "metadata": {},
   "outputs": [
    {
     "name": "stderr",
     "output_type": "stream",
     "text": [
      "/opt/conda/envs/py39_tensorflow/lib/python3.9/site-packages/keras/src/layers/core/dense.py:87: UserWarning: Do not pass an `input_shape`/`input_dim` argument to a layer. When using Sequential models, prefer using an `Input(shape)` object as the first layer in the model instead.\n",
      "  super().__init__(activity_regularizer=activity_regularizer, **kwargs)\n"
     ]
    },
    {
     "data": {
      "text/html": [
       "<pre style=\"white-space:pre;overflow-x:auto;line-height:normal;font-family:Menlo,'DejaVu Sans Mono',consolas,'Courier New',monospace\"><span style=\"font-weight: bold\">Model: \"sequential\"</span>\n",
       "</pre>\n"
      ],
      "text/plain": [
       "\u001b[1mModel: \"sequential\"\u001b[0m\n"
      ]
     },
     "metadata": {},
     "output_type": "display_data"
    },
    {
     "data": {
      "text/html": [
       "<pre style=\"white-space:pre;overflow-x:auto;line-height:normal;font-family:Menlo,'DejaVu Sans Mono',consolas,'Courier New',monospace\">┏━━━━━━━━━━━━━━━━━━━━━━━━━━━━━━━━━┳━━━━━━━━━━━━━━━━━━━━━━━━┳━━━━━━━━━━━━━━━┓\n",
       "┃<span style=\"font-weight: bold\"> Layer (type)                    </span>┃<span style=\"font-weight: bold\"> Output Shape           </span>┃<span style=\"font-weight: bold\">       Param # </span>┃\n",
       "┡━━━━━━━━━━━━━━━━━━━━━━━━━━━━━━━━━╇━━━━━━━━━━━━━━━━━━━━━━━━╇━━━━━━━━━━━━━━━┩\n",
       "│ dense (<span style=\"color: #0087ff; text-decoration-color: #0087ff\">Dense</span>)                   │ (<span style=\"color: #00d7ff; text-decoration-color: #00d7ff\">None</span>, <span style=\"color: #00af00; text-decoration-color: #00af00\">16</span>)             │            <span style=\"color: #00af00; text-decoration-color: #00af00\">80</span> │\n",
       "├─────────────────────────────────┼────────────────────────┼───────────────┤\n",
       "│ dense_1 (<span style=\"color: #0087ff; text-decoration-color: #0087ff\">Dense</span>)                 │ (<span style=\"color: #00d7ff; text-decoration-color: #00d7ff\">None</span>, <span style=\"color: #00af00; text-decoration-color: #00af00\">3</span>)              │            <span style=\"color: #00af00; text-decoration-color: #00af00\">51</span> │\n",
       "└─────────────────────────────────┴────────────────────────┴───────────────┘\n",
       "</pre>\n"
      ],
      "text/plain": [
       "┏━━━━━━━━━━━━━━━━━━━━━━━━━━━━━━━━━┳━━━━━━━━━━━━━━━━━━━━━━━━┳━━━━━━━━━━━━━━━┓\n",
       "┃\u001b[1m \u001b[0m\u001b[1mLayer (type)                   \u001b[0m\u001b[1m \u001b[0m┃\u001b[1m \u001b[0m\u001b[1mOutput Shape          \u001b[0m\u001b[1m \u001b[0m┃\u001b[1m \u001b[0m\u001b[1m      Param #\u001b[0m\u001b[1m \u001b[0m┃\n",
       "┡━━━━━━━━━━━━━━━━━━━━━━━━━━━━━━━━━╇━━━━━━━━━━━━━━━━━━━━━━━━╇━━━━━━━━━━━━━━━┩\n",
       "│ dense (\u001b[38;5;33mDense\u001b[0m)                   │ (\u001b[38;5;45mNone\u001b[0m, \u001b[38;5;34m16\u001b[0m)             │            \u001b[38;5;34m80\u001b[0m │\n",
       "├─────────────────────────────────┼────────────────────────┼───────────────┤\n",
       "│ dense_1 (\u001b[38;5;33mDense\u001b[0m)                 │ (\u001b[38;5;45mNone\u001b[0m, \u001b[38;5;34m3\u001b[0m)              │            \u001b[38;5;34m51\u001b[0m │\n",
       "└─────────────────────────────────┴────────────────────────┴───────────────┘\n"
      ]
     },
     "metadata": {},
     "output_type": "display_data"
    },
    {
     "data": {
      "text/html": [
       "<pre style=\"white-space:pre;overflow-x:auto;line-height:normal;font-family:Menlo,'DejaVu Sans Mono',consolas,'Courier New',monospace\"><span style=\"font-weight: bold\"> Total params: </span><span style=\"color: #00af00; text-decoration-color: #00af00\">131</span> (524.00 B)\n",
       "</pre>\n"
      ],
      "text/plain": [
       "\u001b[1m Total params: \u001b[0m\u001b[38;5;34m131\u001b[0m (524.00 B)\n"
      ]
     },
     "metadata": {},
     "output_type": "display_data"
    },
    {
     "data": {
      "text/html": [
       "<pre style=\"white-space:pre;overflow-x:auto;line-height:normal;font-family:Menlo,'DejaVu Sans Mono',consolas,'Courier New',monospace\"><span style=\"font-weight: bold\"> Trainable params: </span><span style=\"color: #00af00; text-decoration-color: #00af00\">131</span> (524.00 B)\n",
       "</pre>\n"
      ],
      "text/plain": [
       "\u001b[1m Trainable params: \u001b[0m\u001b[38;5;34m131\u001b[0m (524.00 B)\n"
      ]
     },
     "metadata": {},
     "output_type": "display_data"
    },
    {
     "data": {
      "text/html": [
       "<pre style=\"white-space:pre;overflow-x:auto;line-height:normal;font-family:Menlo,'DejaVu Sans Mono',consolas,'Courier New',monospace\"><span style=\"font-weight: bold\"> Non-trainable params: </span><span style=\"color: #00af00; text-decoration-color: #00af00\">0</span> (0.00 B)\n",
       "</pre>\n"
      ],
      "text/plain": [
       "\u001b[1m Non-trainable params: \u001b[0m\u001b[38;5;34m0\u001b[0m (0.00 B)\n"
      ]
     },
     "metadata": {},
     "output_type": "display_data"
    }
   ],
   "source": [
    "# Build a simple neural network using Keras API\n",
    "\n",
    "model = tf.keras.Sequential([\n",
    "    tf.keras.layers.Dense(16, activation='relu', input_shape=(4,)),\n",
    "    tf.keras.layers.Dense(3, activation='softmax')\n",
    "])\n",
    "model.summary()"
   ]
  },
  {
   "cell_type": "code",
   "execution_count": null,
   "id": "801433ce",
   "metadata": {},
   "outputs": [],
   "source": []
  },
  {
   "cell_type": "code",
   "execution_count": 8,
   "id": "387819a7",
   "metadata": {},
   "outputs": [
    {
     "data": {
      "text/plain": [
       "['TFSMLayer',\n",
       " 'deserialize',\n",
       " 'serialize',\n",
       " 'Activation',\n",
       " 'ELU',\n",
       " 'LeakyReLU',\n",
       " 'PReLU',\n",
       " 'ReLU',\n",
       " 'Softmax',\n",
       " 'AdditiveAttention',\n",
       " 'Attention',\n",
       " 'GroupQueryAttention',\n",
       " 'MultiHeadAttention',\n",
       " 'Conv1D',\n",
       " 'Convolution1D',\n",
       " 'Conv1DTranspose',\n",
       " 'Convolution1DTranspose',\n",
       " 'Conv2D',\n",
       " 'Convolution2D',\n",
       " 'Conv2DTranspose',\n",
       " 'Convolution2DTranspose',\n",
       " 'Conv3D',\n",
       " 'Convolution3D',\n",
       " 'Conv3DTranspose',\n",
       " 'Convolution3DTranspose',\n",
       " 'DepthwiseConv1D',\n",
       " 'DepthwiseConv2D',\n",
       " 'SeparableConv1D',\n",
       " 'SeparableConvolution1D',\n",
       " 'SeparableConv2D',\n",
       " 'SeparableConvolution2D',\n",
       " 'Dense',\n",
       " 'EinsumDense',\n",
       " 'Embedding',\n",
       " 'Identity',\n",
       " 'Input',\n",
       " 'InputLayer',\n",
       " 'Lambda',\n",
       " 'Masking',\n",
       " 'Wrapper',\n",
       " 'InputSpec',\n",
       " 'Layer',\n",
       " 'Add',\n",
       " 'add',\n",
       " 'Average',\n",
       " 'average',\n",
       " 'Concatenate',\n",
       " 'concatenate',\n",
       " 'Dot',\n",
       " 'dot',\n",
       " 'Maximum',\n",
       " 'maximum',\n",
       " 'Minimum',\n",
       " 'minimum',\n",
       " 'Multiply',\n",
       " 'multiply',\n",
       " 'Subtract',\n",
       " 'subtract',\n",
       " 'BatchNormalization',\n",
       " 'GroupNormalization',\n",
       " 'LayerNormalization',\n",
       " 'SpectralNormalization',\n",
       " 'UnitNormalization',\n",
       " 'AveragePooling1D',\n",
       " 'AvgPool1D',\n",
       " 'AveragePooling2D',\n",
       " 'AvgPool2D',\n",
       " 'AveragePooling3D',\n",
       " 'AvgPool3D',\n",
       " 'GlobalAveragePooling1D',\n",
       " 'GlobalAvgPool1D',\n",
       " 'GlobalAveragePooling2D',\n",
       " 'GlobalAvgPool2D',\n",
       " 'GlobalAveragePooling3D',\n",
       " 'GlobalAvgPool3D',\n",
       " 'GlobalMaxPooling1D',\n",
       " 'GlobalMaxPool1D',\n",
       " 'GlobalMaxPooling2D',\n",
       " 'GlobalMaxPool2D',\n",
       " 'GlobalMaxPooling3D',\n",
       " 'GlobalMaxPool3D',\n",
       " 'MaxPooling1D',\n",
       " 'MaxPool1D',\n",
       " 'MaxPooling2D',\n",
       " 'MaxPool2D',\n",
       " 'MaxPooling3D',\n",
       " 'MaxPool3D',\n",
       " 'CategoryEncoding',\n",
       " 'Discretization',\n",
       " 'HashedCrossing',\n",
       " 'Hashing',\n",
       " 'AutoContrast',\n",
       " 'CenterCrop',\n",
       " 'RandomBrightness',\n",
       " 'RandomContrast',\n",
       " 'RandomCrop',\n",
       " 'RandomFlip',\n",
       " 'RandomRotation',\n",
       " 'RandomTranslation',\n",
       " 'RandomZoom',\n",
       " 'Resizing',\n",
       " 'Solarization',\n",
       " 'IntegerLookup',\n",
       " 'MelSpectrogram',\n",
       " 'Normalization',\n",
       " 'Pipeline',\n",
       " 'Rescaling',\n",
       " 'StringLookup',\n",
       " 'TextVectorization',\n",
       " 'ActivityRegularization',\n",
       " 'Dropout',\n",
       " 'GaussianDropout',\n",
       " 'GaussianNoise',\n",
       " 'SpatialDropout1D',\n",
       " 'SpatialDropout2D',\n",
       " 'SpatialDropout3D',\n",
       " 'Cropping1D',\n",
       " 'Cropping2D',\n",
       " 'Cropping3D',\n",
       " 'Flatten',\n",
       " 'Permute',\n",
       " 'RepeatVector',\n",
       " 'Reshape',\n",
       " 'UpSampling1D',\n",
       " 'UpSampling2D',\n",
       " 'UpSampling3D',\n",
       " 'ZeroPadding1D',\n",
       " 'ZeroPadding2D',\n",
       " 'ZeroPadding3D',\n",
       " 'Bidirectional',\n",
       " 'ConvLSTM1D',\n",
       " 'ConvLSTM2D',\n",
       " 'ConvLSTM3D',\n",
       " 'GRU',\n",
       " 'GRUCell',\n",
       " 'LSTM',\n",
       " 'LSTMCell',\n",
       " 'RNN',\n",
       " 'SimpleRNN',\n",
       " 'SimpleRNNCell',\n",
       " 'StackedRNNCells',\n",
       " 'TimeDistributed',\n",
       " 'AlphaDropout',\n",
       " 'RandomHeight',\n",
       " 'RandomWidth',\n",
       " 'ThresholdedReLU',\n",
       " 'FlaxLayer',\n",
       " 'JaxLayer',\n",
       " 'TorchModuleWrapper']"
      ]
     },
     "execution_count": 8,
     "metadata": {},
     "output_type": "execute_result"
    }
   ],
   "source": [
    "[x for x in tf.keras.layers.__dir__() if not x.startswith('__')]"
   ]
  },
  {
   "cell_type": "code",
   "execution_count": 15,
   "id": "5ad2dc51",
   "metadata": {},
   "outputs": [
    {
     "data": {
      "text/plain": [
       "['Reduction',\n",
       " 'deserialize',\n",
       " 'get',\n",
       " 'serialize',\n",
       " 'Loss',\n",
       " 'CTC',\n",
       " 'BinaryCrossentropy',\n",
       " 'BinaryFocalCrossentropy',\n",
       " 'CategoricalCrossentropy',\n",
       " 'CategoricalFocalCrossentropy',\n",
       " 'CategoricalHinge',\n",
       " 'CosineSimilarity',\n",
       " 'Dice',\n",
       " 'Hinge',\n",
       " 'Huber',\n",
       " 'KLDivergence',\n",
       " 'LogCosh',\n",
       " 'MeanAbsoluteError',\n",
       " 'MeanAbsolutePercentageError',\n",
       " 'MeanSquaredError',\n",
       " 'MeanSquaredLogarithmicError',\n",
       " 'Poisson',\n",
       " 'SparseCategoricalCrossentropy',\n",
       " 'SquaredHinge',\n",
       " 'Tversky',\n",
       " 'binary_crossentropy',\n",
       " 'binary_focal_crossentropy',\n",
       " 'categorical_crossentropy',\n",
       " 'categorical_focal_crossentropy',\n",
       " 'categorical_hinge',\n",
       " 'cosine_similarity',\n",
       " 'ctc',\n",
       " 'dice',\n",
       " 'hinge',\n",
       " 'huber',\n",
       " 'KLD',\n",
       " 'kld',\n",
       " 'kullback_leibler_divergence',\n",
       " 'logcosh',\n",
       " 'MAE',\n",
       " 'mae',\n",
       " 'MAPE',\n",
       " 'mape',\n",
       " 'MSE',\n",
       " 'mse',\n",
       " 'MSLE',\n",
       " 'msle',\n",
       " 'poisson',\n",
       " 'sparse_categorical_crossentropy',\n",
       " 'squared_hinge',\n",
       " 'tversky']"
      ]
     },
     "execution_count": 15,
     "metadata": {},
     "output_type": "execute_result"
    }
   ],
   "source": [
    "[x for x in tf.keras.losses.__dir__() if not x.startswith('__')]"
   ]
  },
  {
   "cell_type": "code",
   "execution_count": null,
   "id": "060d5ae3",
   "metadata": {},
   "outputs": [],
   "source": []
  },
  {
   "cell_type": "markdown",
   "id": "7cb7751e",
   "metadata": {},
   "source": [
    "# Get Dummy Data "
   ]
  },
  {
   "cell_type": "code",
   "execution_count": 16,
   "id": "4d8d9cb0",
   "metadata": {},
   "outputs": [],
   "source": [
    "# Features: 100 samples, 4 features each\n",
    "X_dummy = tf.random.normal((100, 4))\n",
    "# Labels: 100 samples, 3 classes (one-hot encoded)\n",
    "y_dummy = tf.one_hot(tf.random.uniform((100,), minval=0, maxval=3, dtype=tf.int32), depth=3)"
   ]
  },
  {
   "cell_type": "code",
   "execution_count": 17,
   "id": "795e8dfa",
   "metadata": {},
   "outputs": [
    {
     "name": "stdout",
     "output_type": "stream",
     "text": [
      "X_dummy shape: (100, 4)\n",
      "y_dummy shape: (100, 3)\n"
     ]
    }
   ],
   "source": [
    "print('X_dummy shape:', X_dummy.shape)\n",
    "print('y_dummy shape:', y_dummy.shape)"
   ]
  },
  {
   "cell_type": "code",
   "execution_count": 18,
   "id": "8335e5ef",
   "metadata": {},
   "outputs": [
    {
     "name": "stdout",
     "output_type": "stream",
     "text": [
      "Features batch shape: (16, 4)\n",
      "Labels batch shape: (16, 3)\n"
     ]
    },
    {
     "name": "stderr",
     "output_type": "stream",
     "text": [
      "2025-05-16 19:50:19.622346: I tensorflow/core/framework/local_rendezvous.cc:405] Local rendezvous is aborting with status: OUT_OF_RANGE: End of sequence\n"
     ]
    }
   ],
   "source": [
    "# Create a tf.data.Dataset\n",
    "dummy_dataset = tf.data.Dataset.from_tensor_slices((X_dummy, y_dummy)).batch(16)\n",
    "\n",
    "# Show a batch\n",
    "for features, labels in dummy_dataset.take(1):\n",
    "    print('Features batch shape:', features.shape)\n",
    "    print('Labels batch shape:', labels.shape)"
   ]
  },
  {
   "cell_type": "code",
   "execution_count": null,
   "id": "8def1776",
   "metadata": {},
   "outputs": [],
   "source": []
  },
  {
   "cell_type": "markdown",
   "id": "02c86204",
   "metadata": {},
   "source": [
    "# Keras Datasets"
   ]
  },
  {
   "cell_type": "code",
   "execution_count": 23,
   "id": "f469acda",
   "metadata": {},
   "outputs": [
    {
     "data": {
      "text/plain": [
       "['boston_housing',\n",
       " 'california_housing',\n",
       " 'cifar10',\n",
       " 'cifar100',\n",
       " 'fashion_mnist',\n",
       " 'imdb',\n",
       " 'mnist',\n",
       " 'reuters']"
      ]
     },
     "execution_count": 23,
     "metadata": {},
     "output_type": "execute_result"
    }
   ],
   "source": [
    "[x for x in dir(tf.keras.datasets) if x.find(\"__\") == -1]"
   ]
  },
  {
   "cell_type": "code",
   "execution_count": 20,
   "id": "534f3ecb",
   "metadata": {},
   "outputs": [
    {
     "name": "stdout",
     "output_type": "stream",
     "text": [
      "MNIST train shape: (60000, 28, 28) (60000,)\n",
      "MNIST test shape: (10000, 28, 28) (10000,)\n"
     ]
    }
   ],
   "source": [
    "# Example: Load the Iris dataset from tf.keras.datasets (not available), so use another open dataset like MNIST\n",
    "(X_train, y_train), (X_test, y_test) = tf.keras.datasets.mnist.load_data()\n",
    "print('MNIST train shape:', X_train.shape, y_train.shape)\n",
    "print('MNIST test shape:', X_test.shape, y_test.shape)"
   ]
  },
  {
   "cell_type": "code",
   "execution_count": null,
   "id": "323c3de4",
   "metadata": {},
   "outputs": [],
   "source": []
  },
  {
   "cell_type": "code",
   "execution_count": null,
   "id": "f6c8358c",
   "metadata": {},
   "outputs": [],
   "source": []
  },
  {
   "cell_type": "code",
   "execution_count": null,
   "id": "3f79f98c",
   "metadata": {},
   "outputs": [],
   "source": []
  }
 ],
 "metadata": {
  "kernelspec": {
   "display_name": "py39_tensorflow",
   "language": "python",
   "name": "python3"
  },
  "language_info": {
   "codemirror_mode": {
    "name": "ipython",
    "version": 3
   },
   "file_extension": ".py",
   "mimetype": "text/x-python",
   "name": "python",
   "nbconvert_exporter": "python",
   "pygments_lexer": "ipython3",
   "version": "3.9.23"
  }
 },
 "nbformat": 4,
 "nbformat_minor": 5
}
