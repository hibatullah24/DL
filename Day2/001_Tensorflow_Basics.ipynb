{
 "cells": [
  {
   "cell_type": "code",
   "execution_count": 3,
   "id": "6d609ee5",
   "metadata": {},
   "outputs": [
    {
     "name": "stdout",
     "output_type": "stream",
     "text": [
      "\n",
      " TensorFlow imported successfully!\n"
     ]
    }
   ],
   "source": [
    "# Import TensorFlow\n",
    "import tensorflow as tf\n",
    "print('\\n TensorFlow imported successfully!')"
   ]
  },
  {
   "cell_type": "markdown",
   "id": "dc4befe9",
   "metadata": {},
   "source": [
    "# Check TensorFlow version"
   ]
  },
  {
   "cell_type": "code",
   "execution_count": 4,
   "id": "1aafdcc8",
   "metadata": {},
   "outputs": [
    {
     "name": "stdout",
     "output_type": "stream",
     "text": [
      "TensorFlow version: 2.19.0\n"
     ]
    }
   ],
   "source": [
    "# Print TensorFlow version\n",
    "print('TensorFlow version:', tf.__version__)"
   ]
  },
  {
   "cell_type": "markdown",
   "id": "4f7d9fcb",
   "metadata": {},
   "source": [
    "# Check if your are running on GPU"
   ]
  },
  {
   "cell_type": "code",
   "execution_count": 5,
   "id": "55b9b5b4",
   "metadata": {},
   "outputs": [
    {
     "data": {
      "text/plain": [
       "[LogicalDevice(name='/device:CPU:0', device_type='CPU')]"
      ]
     },
     "execution_count": 5,
     "metadata": {},
     "output_type": "execute_result"
    }
   ],
   "source": [
    "tf.config.list_logical_devices()"
   ]
  },
  {
   "cell_type": "markdown",
   "id": "b4873fed",
   "metadata": {},
   "source": [
    "# TensorFlow Data Types"
   ]
  },
  {
   "cell_type": "code",
   "execution_count": 6,
   "id": "feace6f1",
   "metadata": {},
   "outputs": [
    {
     "name": "stdout",
     "output_type": "stream",
     "text": [
      "Integer tensor: tf.Tensor([1 2 3], shape=(3,), dtype=int32)\n",
      "Float tensor: tf.Tensor([1. 2. 3.], shape=(3,), dtype=float32)\n",
      "Boolean tensor: tf.Tensor([ True False  True], shape=(3,), dtype=bool)\n"
     ]
    }
   ],
   "source": [
    "# TensorFlow supports various data types for tensors\n",
    "int_tensor = tf.constant([1, 2, 3], dtype=tf.int32)\n",
    "float_tensor = tf.constant([1.0, 2.0, 3.0], dtype=tf.float32)\n",
    "bool_tensor = tf.constant([True, False, True], dtype=tf.bool)\n",
    "print('Integer tensor:', int_tensor)\n",
    "print('Float tensor:', float_tensor)\n",
    "print('Boolean tensor:', bool_tensor)"
   ]
  },
  {
   "cell_type": "markdown",
   "id": "9e47693b",
   "metadata": {},
   "source": [
    "# Tensorflow as Numpy"
   ]
  },
  {
   "cell_type": "code",
   "execution_count": 7,
   "id": "c991623b",
   "metadata": {},
   "outputs": [
    {
     "name": "stdout",
     "output_type": "stream",
     "text": [
      "Tensor from NumPy: tf.Tensor([10 20 30], shape=(3,), dtype=int32)\n",
      "Back to NumPy: [10 20 30]\n"
     ]
    }
   ],
   "source": [
    "# TensorFlow tensors can be converted to NumPy arrays and vice versa\n",
    "import numpy as np\n",
    "np_array = np.array([10, 20, 30])\n",
    "tensor_from_np = tf.constant(np_array)\n",
    "print('Tensor from NumPy:', tensor_from_np)\n",
    "back_to_np = tensor_from_np.numpy()\n",
    "print('Back to NumPy:', back_to_np)"
   ]
  },
  {
   "cell_type": "markdown",
   "id": "1a3758c2",
   "metadata": {},
   "source": [
    "# Generate Random Data with TensorFlow"
   ]
  },
  {
   "cell_type": "code",
   "execution_count": 8,
   "id": "fd7ab0d2",
   "metadata": {},
   "outputs": [
    {
     "name": "stdout",
     "output_type": "stream",
     "text": [
      "Random uniform tensor:\n",
      " tf.Tensor(\n",
      "[[5 8 6]\n",
      " [4 6 0]\n",
      " [5 2 3]], shape=(3, 3), dtype=int32)\n"
     ]
    }
   ],
   "source": [
    "random_tensor = tf.random.uniform(shape=(3, 3), minval=0, maxval=10, dtype=tf.int32)\n",
    "print('Random uniform tensor:\\n', random_tensor)"
   ]
  },
  {
   "cell_type": "code",
   "execution_count": 9,
   "id": "6366af83",
   "metadata": {},
   "outputs": [
    {
     "name": "stdout",
     "output_type": "stream",
     "text": [
      "Random normal tensor:\n",
      " tf.Tensor(\n",
      "[[-0.79782194  0.1126435  -0.32691652]\n",
      " [-0.6706387  -1.123328   -0.04538625]\n",
      " [ 3.795955   -0.6909688  -1.1367378 ]], shape=(3, 3), dtype=float32)\n"
     ]
    }
   ],
   "source": [
    "normal_tensor = tf.random.normal(shape=(3, 3), mean=0.0, stddev=1.0)\n",
    "print('Random normal tensor:\\n', normal_tensor)"
   ]
  },
  {
   "cell_type": "markdown",
   "id": "d18141f8",
   "metadata": {},
   "source": [
    "# TensorFlow and Keras APIs"
   ]
  },
  {
   "cell_type": "code",
   "execution_count": 10,
   "id": "3b375ddc",
   "metadata": {},
   "outputs": [
    {
     "data": {
      "text/plain": [
       "keras.src.layers.core.dense.Dense"
      ]
     },
     "execution_count": 10,
     "metadata": {},
     "output_type": "execute_result"
    }
   ],
   "source": [
    "tf.keras.layers.Dense"
   ]
  },
  {
   "cell_type": "code",
   "execution_count": 11,
   "id": "28aa4e80",
   "metadata": {},
   "outputs": [
    {
     "name": "stderr",
     "output_type": "stream",
     "text": [
      "C:\\Users\\Hibatullah\\AppData\\Roaming\\Python\\Python312\\site-packages\\keras\\src\\layers\\core\\dense.py:93: UserWarning: Do not pass an `input_shape`/`input_dim` argument to a layer. When using Sequential models, prefer using an `Input(shape)` object as the first layer in the model instead.\n",
      "  super().__init__(activity_regularizer=activity_regularizer, **kwargs)\n"
     ]
    },
    {
     "data": {
      "text/html": [
       "<pre style=\"white-space:pre;overflow-x:auto;line-height:normal;font-family:Menlo,'DejaVu Sans Mono',consolas,'Courier New',monospace\"><span style=\"font-weight: bold\">Model: \"sequential\"</span>\n",
       "</pre>\n"
      ],
      "text/plain": [
       "\u001b[1mModel: \"sequential\"\u001b[0m\n"
      ]
     },
     "metadata": {},
     "output_type": "display_data"
    },
    {
     "data": {
      "text/html": [
       "<pre style=\"white-space:pre;overflow-x:auto;line-height:normal;font-family:Menlo,'DejaVu Sans Mono',consolas,'Courier New',monospace\">┏━━━━━━━━━━━━━━━━━━━━━━━━━━━━━━━━━┳━━━━━━━━━━━━━━━━━━━━━━━━┳━━━━━━━━━━━━━━━┓\n",
       "┃<span style=\"font-weight: bold\"> Layer (type)                    </span>┃<span style=\"font-weight: bold\"> Output Shape           </span>┃<span style=\"font-weight: bold\">       Param # </span>┃\n",
       "┡━━━━━━━━━━━━━━━━━━━━━━━━━━━━━━━━━╇━━━━━━━━━━━━━━━━━━━━━━━━╇━━━━━━━━━━━━━━━┩\n",
       "│ dense (<span style=\"color: #0087ff; text-decoration-color: #0087ff\">Dense</span>)                   │ (<span style=\"color: #00d7ff; text-decoration-color: #00d7ff\">None</span>, <span style=\"color: #00af00; text-decoration-color: #00af00\">16</span>)             │            <span style=\"color: #00af00; text-decoration-color: #00af00\">80</span> │\n",
       "├─────────────────────────────────┼────────────────────────┼───────────────┤\n",
       "│ dense_1 (<span style=\"color: #0087ff; text-decoration-color: #0087ff\">Dense</span>)                 │ (<span style=\"color: #00d7ff; text-decoration-color: #00d7ff\">None</span>, <span style=\"color: #00af00; text-decoration-color: #00af00\">3</span>)              │            <span style=\"color: #00af00; text-decoration-color: #00af00\">51</span> │\n",
       "└─────────────────────────────────┴────────────────────────┴───────────────┘\n",
       "</pre>\n"
      ],
      "text/plain": [
       "┏━━━━━━━━━━━━━━━━━━━━━━━━━━━━━━━━━┳━━━━━━━━━━━━━━━━━━━━━━━━┳━━━━━━━━━━━━━━━┓\n",
       "┃\u001b[1m \u001b[0m\u001b[1mLayer (type)                   \u001b[0m\u001b[1m \u001b[0m┃\u001b[1m \u001b[0m\u001b[1mOutput Shape          \u001b[0m\u001b[1m \u001b[0m┃\u001b[1m \u001b[0m\u001b[1m      Param #\u001b[0m\u001b[1m \u001b[0m┃\n",
       "┡━━━━━━━━━━━━━━━━━━━━━━━━━━━━━━━━━╇━━━━━━━━━━━━━━━━━━━━━━━━╇━━━━━━━━━━━━━━━┩\n",
       "│ dense (\u001b[38;5;33mDense\u001b[0m)                   │ (\u001b[38;5;45mNone\u001b[0m, \u001b[38;5;34m16\u001b[0m)             │            \u001b[38;5;34m80\u001b[0m │\n",
       "├─────────────────────────────────┼────────────────────────┼───────────────┤\n",
       "│ dense_1 (\u001b[38;5;33mDense\u001b[0m)                 │ (\u001b[38;5;45mNone\u001b[0m, \u001b[38;5;34m3\u001b[0m)              │            \u001b[38;5;34m51\u001b[0m │\n",
       "└─────────────────────────────────┴────────────────────────┴───────────────┘\n"
      ]
     },
     "metadata": {},
     "output_type": "display_data"
    },
    {
     "data": {
      "text/html": [
       "<pre style=\"white-space:pre;overflow-x:auto;line-height:normal;font-family:Menlo,'DejaVu Sans Mono',consolas,'Courier New',monospace\"><span style=\"font-weight: bold\"> Total params: </span><span style=\"color: #00af00; text-decoration-color: #00af00\">131</span> (524.00 B)\n",
       "</pre>\n"
      ],
      "text/plain": [
       "\u001b[1m Total params: \u001b[0m\u001b[38;5;34m131\u001b[0m (524.00 B)\n"
      ]
     },
     "metadata": {},
     "output_type": "display_data"
    },
    {
     "data": {
      "text/html": [
       "<pre style=\"white-space:pre;overflow-x:auto;line-height:normal;font-family:Menlo,'DejaVu Sans Mono',consolas,'Courier New',monospace\"><span style=\"font-weight: bold\"> Trainable params: </span><span style=\"color: #00af00; text-decoration-color: #00af00\">131</span> (524.00 B)\n",
       "</pre>\n"
      ],
      "text/plain": [
       "\u001b[1m Trainable params: \u001b[0m\u001b[38;5;34m131\u001b[0m (524.00 B)\n"
      ]
     },
     "metadata": {},
     "output_type": "display_data"
    },
    {
     "data": {
      "text/html": [
       "<pre style=\"white-space:pre;overflow-x:auto;line-height:normal;font-family:Menlo,'DejaVu Sans Mono',consolas,'Courier New',monospace\"><span style=\"font-weight: bold\"> Non-trainable params: </span><span style=\"color: #00af00; text-decoration-color: #00af00\">0</span> (0.00 B)\n",
       "</pre>\n"
      ],
      "text/plain": [
       "\u001b[1m Non-trainable params: \u001b[0m\u001b[38;5;34m0\u001b[0m (0.00 B)\n"
      ]
     },
     "metadata": {},
     "output_type": "display_data"
    }
   ],
   "source": [
    "# Build a simple neural network using Keras API\n",
    "\n",
    "model = tf.keras.Sequential([\n",
    "    tf.keras.layers.Dense(16, activation='relu', input_shape=(4,)),\n",
    "    tf.keras.layers.Dense(3, activation='softmax')\n",
    "])\n",
    "model.summary()"
   ]
  },
  {
   "cell_type": "markdown",
   "id": "5305bad7-ccd1-43d2-a1eb-e5b838c3b7a0",
   "metadata": {},
   "source": [
    "tf.keras.__dir__()\n"
   ]
  },
  {
   "cell_type": "raw",
   "id": "a45025c0-c833-4dfe-ac75-6b37a2c30456",
   "metadata": {},
   "source": []
  },
  {
   "cell_type": "code",
   "execution_count": null,
   "id": "6a662d1d-e264-4bd0-af20-4b918bd79c29",
   "metadata": {},
   "outputs": [],
   "source": []
  },
  {
   "cell_type": "code",
   "execution_count": 13,
   "id": "387819a7",
   "metadata": {},
   "outputs": [
    {
     "data": {
      "text/plain": [
       "['TFSMLayer',\n",
       " 'deserialize',\n",
       " 'serialize',\n",
       " 'Activation',\n",
       " 'ELU',\n",
       " 'LeakyReLU',\n",
       " 'PReLU',\n",
       " 'ReLU',\n",
       " 'Softmax',\n",
       " 'AdditiveAttention',\n",
       " 'Attention',\n",
       " 'GroupQueryAttention',\n",
       " 'MultiHeadAttention',\n",
       " 'Conv1D',\n",
       " 'Convolution1D',\n",
       " 'Conv1DTranspose',\n",
       " 'Convolution1DTranspose',\n",
       " 'Conv2D',\n",
       " 'Convolution2D',\n",
       " 'Conv2DTranspose',\n",
       " 'Convolution2DTranspose',\n",
       " 'Conv3D',\n",
       " 'Convolution3D',\n",
       " 'Conv3DTranspose',\n",
       " 'Convolution3DTranspose',\n",
       " 'DepthwiseConv1D',\n",
       " 'DepthwiseConv2D',\n",
       " 'SeparableConv1D',\n",
       " 'SeparableConvolution1D',\n",
       " 'SeparableConv2D',\n",
       " 'SeparableConvolution2D',\n",
       " 'Dense',\n",
       " 'EinsumDense',\n",
       " 'Embedding',\n",
       " 'Identity',\n",
       " 'Input',\n",
       " 'InputLayer',\n",
       " 'Lambda',\n",
       " 'Masking',\n",
       " 'Wrapper',\n",
       " 'InputSpec',\n",
       " 'Layer',\n",
       " 'Add',\n",
       " 'add',\n",
       " 'Average',\n",
       " 'average',\n",
       " 'Concatenate',\n",
       " 'concatenate',\n",
       " 'Dot',\n",
       " 'dot',\n",
       " 'Maximum',\n",
       " 'maximum',\n",
       " 'Minimum',\n",
       " 'minimum',\n",
       " 'Multiply',\n",
       " 'multiply',\n",
       " 'Subtract',\n",
       " 'subtract',\n",
       " 'BatchNormalization',\n",
       " 'GroupNormalization',\n",
       " 'LayerNormalization',\n",
       " 'RMSNormalization',\n",
       " 'SpectralNormalization',\n",
       " 'UnitNormalization',\n",
       " 'AveragePooling1D',\n",
       " 'AvgPool1D',\n",
       " 'AveragePooling2D',\n",
       " 'AvgPool2D',\n",
       " 'AveragePooling3D',\n",
       " 'AvgPool3D',\n",
       " 'GlobalAveragePooling1D',\n",
       " 'GlobalAvgPool1D',\n",
       " 'GlobalAveragePooling2D',\n",
       " 'GlobalAvgPool2D',\n",
       " 'GlobalAveragePooling3D',\n",
       " 'GlobalAvgPool3D',\n",
       " 'GlobalMaxPool1D',\n",
       " 'GlobalMaxPooling1D',\n",
       " 'GlobalMaxPool2D',\n",
       " 'GlobalMaxPooling2D',\n",
       " 'GlobalMaxPool3D',\n",
       " 'GlobalMaxPooling3D',\n",
       " 'MaxPool1D',\n",
       " 'MaxPooling1D',\n",
       " 'MaxPool2D',\n",
       " 'MaxPooling2D',\n",
       " 'MaxPool3D',\n",
       " 'MaxPooling3D',\n",
       " 'CategoryEncoding',\n",
       " 'Discretization',\n",
       " 'HashedCrossing',\n",
       " 'Hashing',\n",
       " 'AugMix',\n",
       " 'AutoContrast',\n",
       " 'CenterCrop',\n",
       " 'CutMix',\n",
       " 'Equalization',\n",
       " 'MaxNumBoundingBoxes',\n",
       " 'MixUp',\n",
       " 'RandAugment',\n",
       " 'RandomBrightness',\n",
       " 'RandomColorDegeneration',\n",
       " 'RandomColorJitter',\n",
       " 'RandomContrast',\n",
       " 'RandomCrop',\n",
       " 'RandomElasticTransform',\n",
       " 'RandomErasing',\n",
       " 'RandomFlip',\n",
       " 'RandomGaussianBlur',\n",
       " 'RandomGrayscale',\n",
       " 'RandomHue',\n",
       " 'RandomInvert',\n",
       " 'RandomPerspective',\n",
       " 'RandomPosterization',\n",
       " 'RandomRotation',\n",
       " 'RandomSaturation',\n",
       " 'RandomSharpness',\n",
       " 'RandomShear',\n",
       " 'RandomTranslation',\n",
       " 'RandomZoom',\n",
       " 'Resizing',\n",
       " 'Solarization',\n",
       " 'IntegerLookup',\n",
       " 'MelSpectrogram',\n",
       " 'Normalization',\n",
       " 'Pipeline',\n",
       " 'Rescaling',\n",
       " 'STFTSpectrogram',\n",
       " 'StringLookup',\n",
       " 'TextVectorization',\n",
       " 'ActivityRegularization',\n",
       " 'Dropout',\n",
       " 'GaussianDropout',\n",
       " 'GaussianNoise',\n",
       " 'SpatialDropout1D',\n",
       " 'SpatialDropout2D',\n",
       " 'SpatialDropout3D',\n",
       " 'Cropping1D',\n",
       " 'Cropping2D',\n",
       " 'Cropping3D',\n",
       " 'Flatten',\n",
       " 'Permute',\n",
       " 'RepeatVector',\n",
       " 'Reshape',\n",
       " 'UpSampling1D',\n",
       " 'UpSampling2D',\n",
       " 'UpSampling3D',\n",
       " 'ZeroPadding1D',\n",
       " 'ZeroPadding2D',\n",
       " 'ZeroPadding3D',\n",
       " 'Bidirectional',\n",
       " 'ConvLSTM1D',\n",
       " 'ConvLSTM2D',\n",
       " 'ConvLSTM3D',\n",
       " 'GRU',\n",
       " 'GRUCell',\n",
       " 'LSTM',\n",
       " 'LSTMCell',\n",
       " 'RNN',\n",
       " 'SimpleRNN',\n",
       " 'SimpleRNNCell',\n",
       " 'StackedRNNCells',\n",
       " 'TimeDistributed',\n",
       " 'AlphaDropout',\n",
       " 'RandomHeight',\n",
       " 'RandomWidth',\n",
       " 'ThresholdedReLU',\n",
       " 'FlaxLayer',\n",
       " 'JaxLayer',\n",
       " 'TorchModuleWrapper']"
      ]
     },
     "execution_count": 13,
     "metadata": {},
     "output_type": "execute_result"
    }
   ],
   "source": [
    "[x for x in tf.keras.layers.__dir__() if not x.startswith('__')]"
   ]
  },
  {
   "cell_type": "code",
   "execution_count": 14,
   "id": "5ad2dc51",
   "metadata": {},
   "outputs": [
    {
     "data": {
      "text/plain": [
       "['Reduction',\n",
       " 'deserialize',\n",
       " 'get',\n",
       " 'serialize',\n",
       " 'Loss',\n",
       " 'CTC',\n",
       " 'BinaryCrossentropy',\n",
       " 'BinaryFocalCrossentropy',\n",
       " 'CategoricalCrossentropy',\n",
       " 'CategoricalFocalCrossentropy',\n",
       " 'CategoricalGeneralizedCrossEntropy',\n",
       " 'CategoricalHinge',\n",
       " 'Circle',\n",
       " 'CosineSimilarity',\n",
       " 'Dice',\n",
       " 'Hinge',\n",
       " 'Huber',\n",
       " 'KLDivergence',\n",
       " 'LogCosh',\n",
       " 'MeanAbsoluteError',\n",
       " 'MeanAbsolutePercentageError',\n",
       " 'MeanSquaredError',\n",
       " 'MeanSquaredLogarithmicError',\n",
       " 'Poisson',\n",
       " 'SparseCategoricalCrossentropy',\n",
       " 'SquaredHinge',\n",
       " 'Tversky',\n",
       " 'binary_crossentropy',\n",
       " 'binary_focal_crossentropy',\n",
       " 'categorical_crossentropy',\n",
       " 'categorical_focal_crossentropy',\n",
       " 'categorical_generalized_cross_entropy',\n",
       " 'categorical_hinge',\n",
       " 'circle',\n",
       " 'cosine_similarity',\n",
       " 'ctc',\n",
       " 'dice',\n",
       " 'hinge',\n",
       " 'huber',\n",
       " 'KLD',\n",
       " 'kld',\n",
       " 'kullback_leibler_divergence',\n",
       " 'logcosh',\n",
       " 'MAE',\n",
       " 'mae',\n",
       " 'MAPE',\n",
       " 'mape',\n",
       " 'MSE',\n",
       " 'mse',\n",
       " 'MSLE',\n",
       " 'msle',\n",
       " 'poisson',\n",
       " 'sparse_categorical_crossentropy',\n",
       " 'squared_hinge',\n",
       " 'tversky']"
      ]
     },
     "execution_count": 14,
     "metadata": {},
     "output_type": "execute_result"
    }
   ],
   "source": [
    "[x for x in tf.keras.losses.__dir__() if not x.startswith('__')]"
   ]
  },
  {
   "cell_type": "code",
   "execution_count": null,
   "id": "060d5ae3",
   "metadata": {},
   "outputs": [],
   "source": []
  },
  {
   "cell_type": "markdown",
   "id": "7cb7751e",
   "metadata": {},
   "source": [
    "# Get Dummy Data "
   ]
  },
  {
   "cell_type": "code",
   "execution_count": 15,
   "id": "4d8d9cb0",
   "metadata": {},
   "outputs": [],
   "source": [
    "# Features: 100 samples, 4 features each\n",
    "X_dummy = tf.random.normal((100, 4))\n",
    "# Labels: 100 samples, 3 classes (one-hot encoded)\n",
    "y_dummy = tf.one_hot(tf.random.uniform((100,), minval=0, maxval=3, dtype=tf.int32), depth=3)"
   ]
  },
  {
   "cell_type": "code",
   "execution_count": 16,
   "id": "795e8dfa",
   "metadata": {},
   "outputs": [
    {
     "name": "stdout",
     "output_type": "stream",
     "text": [
      "X_dummy shape: (100, 4)\n",
      "y_dummy shape: (100, 3)\n"
     ]
    }
   ],
   "source": [
    "print('X_dummy shape:', X_dummy.shape)\n",
    "print('y_dummy shape:', y_dummy.shape)"
   ]
  },
  {
   "cell_type": "code",
   "execution_count": 17,
   "id": "8335e5ef",
   "metadata": {},
   "outputs": [
    {
     "name": "stdout",
     "output_type": "stream",
     "text": [
      "Features batch shape: (16, 4)\n",
      "Labels batch shape: (16, 3)\n"
     ]
    }
   ],
   "source": [
    "# Create a tf.data.Dataset\n",
    "dummy_dataset = tf.data.Dataset.from_tensor_slices((X_dummy, y_dummy)).batch(16)\n",
    "\n",
    "# Show a batch\n",
    "for features, labels in dummy_dataset.take(1):\n",
    "    print('Features batch shape:', features.shape)\n",
    "    print('Labels batch shape:', labels.shape)"
   ]
  },
  {
   "cell_type": "code",
   "execution_count": null,
   "id": "8def1776",
   "metadata": {},
   "outputs": [],
   "source": []
  },
  {
   "cell_type": "markdown",
   "id": "02c86204",
   "metadata": {},
   "source": [
    "# Keras Datasets"
   ]
  },
  {
   "cell_type": "code",
   "execution_count": 18,
   "id": "f469acda",
   "metadata": {},
   "outputs": [
    {
     "data": {
      "text/plain": [
       "['boston_housing',\n",
       " 'california_housing',\n",
       " 'cifar10',\n",
       " 'cifar100',\n",
       " 'fashion_mnist',\n",
       " 'imdb',\n",
       " 'mnist',\n",
       " 'reuters']"
      ]
     },
     "execution_count": 18,
     "metadata": {},
     "output_type": "execute_result"
    }
   ],
   "source": [
    "[x for x in dir(tf.keras.datasets) if x.find(\"__\") == -1]"
   ]
  },
  {
   "cell_type": "code",
   "execution_count": 19,
   "id": "534f3ecb",
   "metadata": {},
   "outputs": [
    {
     "name": "stdout",
     "output_type": "stream",
     "text": [
      "MNIST train shape: (60000, 28, 28) (60000,)\n",
      "MNIST test shape: (10000, 28, 28) (10000,)\n"
     ]
    }
   ],
   "source": [
    "# Example: Load the Iris dataset from tf.keras.datasets (not available), so use another open dataset like MNIST\n",
    "(X_train, y_train), (X_test, y_test) = tf.keras.datasets.mnist.load_data()\n",
    "print('MNIST train shape:', X_train.shape, y_train.shape)\n",
    "print('MNIST test shape:', X_test.shape, y_test.shape)"
   ]
  },
  {
   "cell_type": "markdown",
   "id": "e1602a18-5293-4a67-9980-978c4e2d67fc",
   "metadata": {},
   "source": [
    "# class Example"
   ]
  },
  {
   "cell_type": "markdown",
   "id": "82b0d1c5-6068-4192-9fe0-cdd4996d083d",
   "metadata": {},
   "source": [
    "mind the output shape of the output layer with the shape of y true (the labels) where None will be infered while training/ compliting "
   ]
  },
  {
   "cell_type": "code",
   "execution_count": null,
   "id": "38ee1389-e7e0-41f6-9d2b-41a505aee8c8",
   "metadata": {},
   "outputs": [],
   "source": []
  },
  {
   "cell_type": "code",
   "execution_count": null,
   "id": "6efdcdc6-9a7f-4b10-a325-155db8e0ac8a",
   "metadata": {},
   "outputs": [],
   "source": []
  },
  {
   "cell_type": "code",
   "execution_count": null,
   "id": "d78d48f8-b3f5-414b-a203-002fc28caa21",
   "metadata": {},
   "outputs": [],
   "source": []
  },
  {
   "cell_type": "code",
   "execution_count": null,
   "id": "a514d6f1-e524-4eec-afbc-734298316c06",
   "metadata": {},
   "outputs": [],
   "source": [
    "model.compile(\n",
    "    optimizers=\"Adam\",\n",
    "    loss = \"\"\n",
    ")"
   ]
  },
  {
   "cell_type": "markdown",
   "id": "5fe5a91d-0d93-4f78-8af7-3e314230b28a",
   "metadata": {},
   "source": [
    "- ep\n",
    "batch_size: size of data within the epoche"
   ]
  },
  {
   "cell_type": "code",
   "execution_count": null,
   "id": "98993060-8fcc-490b-a246-3d1b460851a7",
   "metadata": {},
   "outputs": [],
   "source": []
  },
  {
   "cell_type": "code",
   "execution_count": null,
   "id": "f4df2843-63ba-4f7f-a97e-4df182bb6e5b",
   "metadata": {},
   "outputs": [],
   "source": []
  },
  {
   "cell_type": "code",
   "execution_count": null,
   "id": "b63fe158-307c-44c3-b4b9-5494cb5043f8",
   "metadata": {},
   "outputs": [],
   "source": []
  },
  {
   "cell_type": "code",
   "execution_count": null,
   "id": "5f2694c3-bdf4-40dd-8977-c95b40a2c582",
   "metadata": {},
   "outputs": [],
   "source": []
  },
  {
   "cell_type": "code",
   "execution_count": null,
   "id": "f4fa349a-fe0b-459f-a02d-4ae6ca95a0d0",
   "metadata": {},
   "outputs": [],
   "source": []
  },
  {
   "cell_type": "code",
   "execution_count": null,
   "id": "2e01fa9d-cf8b-49af-9d4c-49073a0eee16",
   "metadata": {},
   "outputs": [],
   "source": []
  },
  {
   "cell_type": "code",
   "execution_count": null,
   "id": "98f0dc6c-b739-497e-a71b-451e1ad0eab2",
   "metadata": {},
   "outputs": [],
   "source": []
  },
  {
   "cell_type": "code",
   "execution_count": null,
   "id": "71b9f923-9b88-41f1-b063-f739f7a2836b",
   "metadata": {},
   "outputs": [],
   "source": []
  },
  {
   "cell_type": "code",
   "execution_count": null,
   "id": "7de02b6a-a06d-4cd7-a3b1-00f4c7e4548a",
   "metadata": {},
   "outputs": [],
   "source": []
  },
  {
   "cell_type": "code",
   "execution_count": null,
   "id": "2c15b96d-2e40-4b2e-b064-aaeb982d3b1f",
   "metadata": {},
   "outputs": [],
   "source": []
  },
  {
   "cell_type": "code",
   "execution_count": null,
   "id": "507b8722-ba3b-4102-ad10-7b2b4d702a5b",
   "metadata": {},
   "outputs": [],
   "source": []
  },
  {
   "cell_type": "code",
   "execution_count": null,
   "id": "6e2ac8d6-8d86-4bc8-b85e-15a5a7f8b64f",
   "metadata": {},
   "outputs": [],
   "source": []
  },
  {
   "cell_type": "code",
   "execution_count": null,
   "id": "0d4045f4-6dee-40d2-8f6d-ebc22462de87",
   "metadata": {},
   "outputs": [],
   "source": []
  },
  {
   "cell_type": "code",
   "execution_count": null,
   "id": "53c7afd3-9309-4b38-b39c-a9dfbe00bd65",
   "metadata": {},
   "outputs": [],
   "source": []
  },
  {
   "cell_type": "code",
   "execution_count": null,
   "id": "d8ebefe6-20b2-4a8e-9bc9-3e8337fd1a58",
   "metadata": {},
   "outputs": [],
   "source": []
  },
  {
   "cell_type": "code",
   "execution_count": null,
   "id": "4eda4540-7973-4735-86d1-9be6b0c337d5",
   "metadata": {},
   "outputs": [],
   "source": []
  },
  {
   "cell_type": "code",
   "execution_count": null,
   "id": "3f79f98c",
   "metadata": {},
   "outputs": [],
   "source": []
  }
 ],
 "metadata": {
  "kernelspec": {
   "display_name": "Python 3 (ipykernel)",
   "language": "python",
   "name": "python3"
  },
  "language_info": {
   "codemirror_mode": {
    "name": "ipython",
    "version": 3
   },
   "file_extension": ".py",
   "mimetype": "text/x-python",
   "name": "python",
   "nbconvert_exporter": "python",
   "pygments_lexer": "ipython3",
   "version": "3.12.7"
  }
 },
 "nbformat": 4,
 "nbformat_minor": 5
}
