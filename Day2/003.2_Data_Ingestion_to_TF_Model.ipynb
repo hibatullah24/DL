{
 "cells": [
  {
   "cell_type": "code",
   "execution_count": 1,
   "id": "7b81506c",
   "metadata": {},
   "outputs": [
    {
     "name": "stderr",
     "output_type": "stream",
     "text": [
      "2025-06-24 16:39:18.168996: I tensorflow/core/platform/cpu_feature_guard.cc:210] This TensorFlow binary is optimized to use available CPU instructions in performance-critical operations.\n",
      "To enable the following instructions: SSE4.1 SSE4.2 AVX AVX2 FMA, in other operations, rebuild TensorFlow with the appropriate compiler flags.\n"
     ]
    }
   ],
   "source": [
    "import tensorflow as tf\n",
    "import numpy as np\n",
    "import pandas as pd"
   ]
  },
  {
   "cell_type": "markdown",
   "id": "8dc81d04",
   "metadata": {},
   "source": [
    "## Create dummy data"
   ]
  },
  {
   "cell_type": "code",
   "execution_count": 2,
   "id": "83326139",
   "metadata": {},
   "outputs": [],
   "source": [
    "x = np.random.rand(1000, 10)\n",
    "y = np.random.randint(0, 2, size=(1000,))"
   ]
  },
  {
   "cell_type": "markdown",
   "id": "13b8f84d",
   "metadata": {},
   "source": [
    "## Define a simple model"
   ]
  },
  {
   "cell_type": "code",
   "execution_count": 3,
   "id": "cfa114f5",
   "metadata": {},
   "outputs": [
    {
     "name": "stderr",
     "output_type": "stream",
     "text": [
      "/opt/conda/envs/py39_tensorflow/lib/python3.9/site-packages/keras/src/layers/core/dense.py:87: UserWarning: Do not pass an `input_shape`/`input_dim` argument to a layer. When using Sequential models, prefer using an `Input(shape)` object as the first layer in the model instead.\n",
      "  super().__init__(activity_regularizer=activity_regularizer, **kwargs)\n"
     ]
    }
   ],
   "source": [
    "model = tf.keras.Sequential([\n",
    "    tf.keras.layers.Dense(32, activation='relu', input_shape=(10,)),\n",
    "    tf.keras.layers.Dense(1, activation='sigmoid')\n",
    "])\n",
    "model.compile(optimizer='adam', loss='binary_crossentropy', metrics=['accuracy'])"
   ]
  },
  {
   "cell_type": "markdown",
   "id": "a63ff975",
   "metadata": {},
   "source": [
    "### 1. Using NumPy arrays"
   ]
  },
  {
   "cell_type": "code",
   "execution_count": null,
   "id": "d298cc36",
   "metadata": {},
   "outputs": [],
   "source": [
    "model.fit(x, y, epochs=1, verbose=1)"
   ]
  },
  {
   "cell_type": "markdown",
   "id": "0fd242ad",
   "metadata": {},
   "source": [
    "### 2. Using tf.data.Dataset"
   ]
  },
  {
   "cell_type": "code",
   "execution_count": null,
   "id": "ed6e93af",
   "metadata": {},
   "outputs": [],
   "source": [
    "dataset = tf.data.Dataset.from_tensor_slices((x, y)).shuffle(1000).batch(32)\n",
    "model.fit(dataset, epochs=1, verbose=1)"
   ]
  },
  {
   "cell_type": "markdown",
   "id": "279f7e57",
   "metadata": {},
   "source": [
    "### 3. Using Pandas DataFrames"
   ]
  },
  {
   "cell_type": "code",
   "execution_count": null,
   "id": "5653f076",
   "metadata": {},
   "outputs": [],
   "source": [
    "df = pd.DataFrame(x)\n",
    "df_labels = pd.Series(y)\n",
    "model.fit(df, df_labels, epochs=1, verbose=1)"
   ]
  },
  {
   "cell_type": "markdown",
   "id": "92137b8c",
   "metadata": {},
   "source": [
    "### 4. Using Python generator"
   ]
  },
  {
   "cell_type": "code",
   "execution_count": null,
   "id": "33709ce6",
   "metadata": {},
   "outputs": [],
   "source": [
    "def data_gen():\n",
    "    for _ in range(32):  # simulate 32 steps per epoch\n",
    "        yield np.random.rand(32, 10), np.random.randint(0, 2, size=(32,))\n",
    "\n",
    "model.fit(data_gen(), steps_per_epoch=32, epochs=1, verbose=1)"
   ]
  },
  {
   "cell_type": "code",
   "execution_count": null,
   "id": "f14c5646",
   "metadata": {},
   "outputs": [],
   "source": []
  }
 ],
 "metadata": {
  "kernelspec": {
   "display_name": "py39_tensorflow",
   "language": "python",
   "name": "python3"
  },
  "language_info": {
   "codemirror_mode": {
    "name": "ipython",
    "version": 3
   },
   "file_extension": ".py",
   "mimetype": "text/x-python",
   "name": "python",
   "nbconvert_exporter": "python",
   "pygments_lexer": "ipython3",
   "version": "3.9.23"
  }
 },
 "nbformat": 4,
 "nbformat_minor": 5
}
